{
 "cells": [
  {
   "cell_type": "code",
   "execution_count": 20,
   "metadata": {},
   "outputs": [],
   "source": [
    "from jqdatasdk import *\n",
    "auth('13585707695', 'woshidi1')"
   ]
  },
  {
   "cell_type": "code",
   "execution_count": 21,
   "metadata": {},
   "outputs": [],
   "source": [
    "q=query(finance.FUND_MAIN_INFO).filter(finance.FUND_MAIN_INFO.underlying_asset_type_id==402001)\n",
    "df=finance.run_query(q)"
   ]
  },
  {
   "cell_type": "code",
   "execution_count": 22,
   "metadata": {},
   "outputs": [
    {
     "data": {
      "text/plain": [
       "(1565, 11)"
      ]
     },
     "execution_count": 22,
     "metadata": {},
     "output_type": "execute_result"
    }
   ],
   "source": [
    "df.shape"
   ]
  },
  {
   "cell_type": "code",
   "execution_count": 23,
   "metadata": {},
   "outputs": [
    {
     "data": {
      "text/html": [
       "<div>\n",
       "<style scoped>\n",
       "    .dataframe tbody tr th:only-of-type {\n",
       "        vertical-align: middle;\n",
       "    }\n",
       "\n",
       "    .dataframe tbody tr th {\n",
       "        vertical-align: top;\n",
       "    }\n",
       "\n",
       "    .dataframe thead th {\n",
       "        text-align: right;\n",
       "    }\n",
       "</style>\n",
       "<table border=\"1\" class=\"dataframe\">\n",
       "  <thead>\n",
       "    <tr style=\"text-align: right;\">\n",
       "      <th></th>\n",
       "      <th>id</th>\n",
       "      <th>main_code</th>\n",
       "      <th>name</th>\n",
       "      <th>advisor</th>\n",
       "      <th>trustee</th>\n",
       "      <th>operate_mode_id</th>\n",
       "      <th>operate_mode</th>\n",
       "      <th>underlying_asset_type_id</th>\n",
       "      <th>underlying_asset_type</th>\n",
       "      <th>start_date</th>\n",
       "      <th>end_date</th>\n",
       "    </tr>\n",
       "  </thead>\n",
       "  <tbody>\n",
       "    <tr>\n",
       "      <th>0</th>\n",
       "      <td>23</td>\n",
       "      <td>000041</td>\n",
       "      <td>华夏全球</td>\n",
       "      <td>华夏基金管理有限公司</td>\n",
       "      <td>中国建设银行股份有限公司</td>\n",
       "      <td>401003</td>\n",
       "      <td>QDII</td>\n",
       "      <td>402001</td>\n",
       "      <td>股票型</td>\n",
       "      <td>2007-10-09</td>\n",
       "      <td>None</td>\n",
       "    </tr>\n",
       "    <tr>\n",
       "      <th>1</th>\n",
       "      <td>24</td>\n",
       "      <td>000042</td>\n",
       "      <td>中证财通可持续发展100指数</td>\n",
       "      <td>财通基金管理有限公司</td>\n",
       "      <td>上海银行股份有限公司</td>\n",
       "      <td>401001</td>\n",
       "      <td>开放式基金</td>\n",
       "      <td>402001</td>\n",
       "      <td>股票型</td>\n",
       "      <td>2013-03-22</td>\n",
       "      <td>None</td>\n",
       "    </tr>\n",
       "    <tr>\n",
       "      <th>2</th>\n",
       "      <td>25</td>\n",
       "      <td>000043</td>\n",
       "      <td>嘉实美国成长股票</td>\n",
       "      <td>嘉实基金管理有限公司</td>\n",
       "      <td>中国银行股份有限公司</td>\n",
       "      <td>401003</td>\n",
       "      <td>QDII</td>\n",
       "      <td>402001</td>\n",
       "      <td>股票型</td>\n",
       "      <td>2013-06-14</td>\n",
       "      <td>None</td>\n",
       "    </tr>\n",
       "    <tr>\n",
       "      <th>3</th>\n",
       "      <td>28</td>\n",
       "      <td>000049</td>\n",
       "      <td>中银标普全球</td>\n",
       "      <td>中银基金管理有限公司</td>\n",
       "      <td>招商银行股份有限公司</td>\n",
       "      <td>401003</td>\n",
       "      <td>QDII</td>\n",
       "      <td>402001</td>\n",
       "      <td>股票型</td>\n",
       "      <td>2013-03-19</td>\n",
       "      <td>None</td>\n",
       "    </tr>\n",
       "    <tr>\n",
       "      <th>4</th>\n",
       "      <td>33</td>\n",
       "      <td>270042</td>\n",
       "      <td>广发纳斯达克100指数（QDII）</td>\n",
       "      <td>广发基金管理有限公司</td>\n",
       "      <td>中国银行股份有限公司</td>\n",
       "      <td>401003</td>\n",
       "      <td>QDII</td>\n",
       "      <td>402001</td>\n",
       "      <td>股票型</td>\n",
       "      <td>2012-08-15</td>\n",
       "      <td>None</td>\n",
       "    </tr>\n",
       "  </tbody>\n",
       "</table>\n",
       "</div>"
      ],
      "text/plain": [
       "   id main_code               name     advisor       trustee  operate_mode_id  \\\n",
       "0  23    000041               华夏全球  华夏基金管理有限公司  中国建设银行股份有限公司           401003   \n",
       "1  24    000042     中证财通可持续发展100指数  财通基金管理有限公司    上海银行股份有限公司           401001   \n",
       "2  25    000043           嘉实美国成长股票  嘉实基金管理有限公司    中国银行股份有限公司           401003   \n",
       "3  28    000049             中银标普全球  中银基金管理有限公司    招商银行股份有限公司           401003   \n",
       "4  33    270042  广发纳斯达克100指数（QDII）  广发基金管理有限公司    中国银行股份有限公司           401003   \n",
       "\n",
       "  operate_mode  underlying_asset_type_id underlying_asset_type  start_date  \\\n",
       "0         QDII                    402001                   股票型  2007-10-09   \n",
       "1        开放式基金                    402001                   股票型  2013-03-22   \n",
       "2         QDII                    402001                   股票型  2013-06-14   \n",
       "3         QDII                    402001                   股票型  2013-03-19   \n",
       "4         QDII                    402001                   股票型  2012-08-15   \n",
       "\n",
       "  end_date  \n",
       "0     None  \n",
       "1     None  \n",
       "2     None  \n",
       "3     None  \n",
       "4     None  "
      ]
     },
     "execution_count": 23,
     "metadata": {},
     "output_type": "execute_result"
    }
   ],
   "source": [
    "df.head(5)"
   ]
  },
  {
   "cell_type": "code",
   "execution_count": 24,
   "metadata": {},
   "outputs": [],
   "source": [
    "for main_code in df['main_code']:\n",
    "    q_net_value=query(finance.FUND_NET_VALUE).filter(finance.FUND_NET_VALUE.code==str(main_code)).order_by(finance.FUND_NET_VALUE.day.desc())\n",
    "    df_net_value=finance.run_query(q_net_value)\n",
    "    df_net_value.to_csv('data/fund_net_value_' + main_code + '.csv')"
   ]
  },
  {
   "cell_type": "code",
   "execution_count": 25,
   "metadata": {},
   "outputs": [],
   "source": [
    "df.to_csv('data/stock_fund_info.csv')"
   ]
  },
  {
   "cell_type": "code",
   "execution_count": null,
   "metadata": {},
   "outputs": [],
   "source": []
  }
 ],
 "metadata": {
  "kernelspec": {
   "display_name": "Python 3",
   "language": "python",
   "name": "python3"
  },
  "language_info": {
   "codemirror_mode": {
    "name": "ipython",
    "version": 3
   },
   "file_extension": ".py",
   "mimetype": "text/x-python",
   "name": "python",
   "nbconvert_exporter": "python",
   "pygments_lexer": "ipython3",
   "version": "3.7.0"
  }
 },
 "nbformat": 4,
 "nbformat_minor": 1
}
