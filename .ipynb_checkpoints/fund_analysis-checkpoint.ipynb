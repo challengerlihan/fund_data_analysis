{
 "cells": [
  {
   "cell_type": "code",
   "execution_count": 285,
   "metadata": {},
   "outputs": [],
   "source": [
    "import pandas as pd\n",
    "%matplotlib inline\n",
    "import matplotlib.pyplot as plt"
   ]
  },
  {
   "cell_type": "code",
   "execution_count": 286,
   "metadata": {},
   "outputs": [],
   "source": [
    "# df = pd.read_csv('~/downloads/fund_net_value_001594.csv')  # 银行\n",
    "# df = pd.read_csv('~/downloads/fund_net_value_512500.csv')  # 中证500\n",
    "# df = pd.read_csv('~/downloads/fund_net_value_000961.csv')  # 沪深300\n",
    "# df = pd.read_csv('data/fund_net_value_001594.csv')  \n",
    "# df = pd.read_csv('data/fund_net_value_512500.csv')  # 中证500\n",
    "df = pd.read_csv('data/fund_net_value_000961.csv')  # 沪深300\n",
    "df['day'] = pd.to_datetime(df['day'])\n",
    "df = df.sort_values('day')"
   ]
  },
  {
   "cell_type": "code",
   "execution_count": 287,
   "metadata": {},
   "outputs": [
    {
     "name": "stdout",
     "output_type": "stream",
     "text": [
      "<class 'pandas.core.frame.DataFrame'>\n",
      "Int64Index: 1096 entries, 1095 to 0\n",
      "Data columns (total 9 columns):\n",
      "Unnamed: 0            1096 non-null int64\n",
      "id                    1096 non-null int64\n",
      "code                  1096 non-null int64\n",
      "day                   1096 non-null datetime64[ns]\n",
      "net_value             1096 non-null float64\n",
      "sum_value             1096 non-null float64\n",
      "factor                1096 non-null float64\n",
      "acc_factor            1096 non-null float64\n",
      "refactor_net_value    1096 non-null float64\n",
      "dtypes: datetime64[ns](1), float64(5), int64(3)\n",
      "memory usage: 85.6 KB\n"
     ]
    }
   ],
   "source": [
    "df.info()"
   ]
  },
  {
   "cell_type": "code",
   "execution_count": 288,
   "metadata": {},
   "outputs": [
    {
     "data": {
      "text/html": [
       "<div>\n",
       "<style scoped>\n",
       "    .dataframe tbody tr th:only-of-type {\n",
       "        vertical-align: middle;\n",
       "    }\n",
       "\n",
       "    .dataframe tbody tr th {\n",
       "        vertical-align: top;\n",
       "    }\n",
       "\n",
       "    .dataframe thead th {\n",
       "        text-align: right;\n",
       "    }\n",
       "</style>\n",
       "<table border=\"1\" class=\"dataframe\">\n",
       "  <thead>\n",
       "    <tr style=\"text-align: right;\">\n",
       "      <th></th>\n",
       "      <th>Unnamed: 0</th>\n",
       "      <th>id</th>\n",
       "      <th>code</th>\n",
       "      <th>day</th>\n",
       "      <th>net_value</th>\n",
       "      <th>sum_value</th>\n",
       "      <th>factor</th>\n",
       "      <th>acc_factor</th>\n",
       "      <th>refactor_net_value</th>\n",
       "    </tr>\n",
       "  </thead>\n",
       "  <tbody>\n",
       "    <tr>\n",
       "      <th>1095</th>\n",
       "      <td>1095</td>\n",
       "      <td>5120066</td>\n",
       "      <td>961</td>\n",
       "      <td>2015-01-20</td>\n",
       "      <td>1.0000</td>\n",
       "      <td>1.0000</td>\n",
       "      <td>1.0</td>\n",
       "      <td>1.0</td>\n",
       "      <td>1.0000</td>\n",
       "    </tr>\n",
       "    <tr>\n",
       "      <th>1094</th>\n",
       "      <td>1094</td>\n",
       "      <td>3587494</td>\n",
       "      <td>961</td>\n",
       "      <td>2015-01-23</td>\n",
       "      <td>1.0332</td>\n",
       "      <td>1.0332</td>\n",
       "      <td>1.0</td>\n",
       "      <td>1.0</td>\n",
       "      <td>1.0332</td>\n",
       "    </tr>\n",
       "    <tr>\n",
       "      <th>1093</th>\n",
       "      <td>1093</td>\n",
       "      <td>3587495</td>\n",
       "      <td>961</td>\n",
       "      <td>2015-01-26</td>\n",
       "      <td>1.0416</td>\n",
       "      <td>1.0416</td>\n",
       "      <td>1.0</td>\n",
       "      <td>1.0</td>\n",
       "      <td>1.0416</td>\n",
       "    </tr>\n",
       "    <tr>\n",
       "      <th>1092</th>\n",
       "      <td>1092</td>\n",
       "      <td>3587496</td>\n",
       "      <td>961</td>\n",
       "      <td>2015-01-27</td>\n",
       "      <td>1.0357</td>\n",
       "      <td>1.0357</td>\n",
       "      <td>1.0</td>\n",
       "      <td>1.0</td>\n",
       "      <td>1.0357</td>\n",
       "    </tr>\n",
       "    <tr>\n",
       "      <th>1091</th>\n",
       "      <td>1091</td>\n",
       "      <td>3587497</td>\n",
       "      <td>961</td>\n",
       "      <td>2015-01-28</td>\n",
       "      <td>1.0297</td>\n",
       "      <td>1.0297</td>\n",
       "      <td>1.0</td>\n",
       "      <td>1.0</td>\n",
       "      <td>1.0297</td>\n",
       "    </tr>\n",
       "  </tbody>\n",
       "</table>\n",
       "</div>"
      ],
      "text/plain": [
       "      Unnamed: 0       id  code        day  net_value  sum_value  factor  \\\n",
       "1095        1095  5120066   961 2015-01-20     1.0000     1.0000     1.0   \n",
       "1094        1094  3587494   961 2015-01-23     1.0332     1.0332     1.0   \n",
       "1093        1093  3587495   961 2015-01-26     1.0416     1.0416     1.0   \n",
       "1092        1092  3587496   961 2015-01-27     1.0357     1.0357     1.0   \n",
       "1091        1091  3587497   961 2015-01-28     1.0297     1.0297     1.0   \n",
       "\n",
       "      acc_factor  refactor_net_value  \n",
       "1095         1.0              1.0000  \n",
       "1094         1.0              1.0332  \n",
       "1093         1.0              1.0416  \n",
       "1092         1.0              1.0357  \n",
       "1091         1.0              1.0297  "
      ]
     },
     "execution_count": 288,
     "metadata": {},
     "output_type": "execute_result"
    }
   ],
   "source": [
    "df.head()"
   ]
  },
  {
   "cell_type": "code",
   "execution_count": 289,
   "metadata": {},
   "outputs": [
    {
     "data": {
      "text/plain": [
       "[<matplotlib.lines.Line2D at 0x1017629278>]"
      ]
     },
     "execution_count": 289,
     "metadata": {},
     "output_type": "execute_result"
    },
    {
     "data": {
      "image/png": "[encoded data removed]",
      "text/plain": [
       "<Figure size 432x288 with 1 Axes>"
      ]
     },
     "metadata": {
      "needs_background": "light"
     },
     "output_type": "display_data"
    }
   ],
   "source": [
    "plt.plot(df['day'], df['sum_value'])"
   ]
  },
  {
   "cell_type": "markdown",
   "metadata": {},
   "source": [
    "# 设置起止日期等全局变量"
   ]
  },
  {
   "cell_type": "code",
   "execution_count": 290,
   "metadata": {},
   "outputs": [],
   "source": [
    "start_date = '20160101'\n",
    "end_date = '20190710'"
   ]
  },
  {
   "cell_type": "markdown",
   "metadata": {},
   "source": [
    "# 我自己计算的方法\n",
    "- 把每期的投入都归到初始状态的present value，然后计算最后日期的future value，再处理无风险利率"
   ]
  },
  {
   "cell_type": "code",
   "execution_count": 291,
   "metadata": {
    "scrolled": true
   },
   "outputs": [
    {
     "name": "stdout",
     "output_type": "stream",
     "text": [
      "Invested money is: 18400.00\n",
      "Returned money is: 20599.43\n",
      "The total return is: 11.95%\n",
      "The annual return is: 3.41%\n",
      "The risk premium compared to no-risk assets: -0.59%\n"
     ]
    }
   ],
   "source": [
    "from math import pow\n",
    "buy_dates = pd.date_range(start=start_date, end=end_date, freq='5B')\n",
    "invested = 0\n",
    "returned = 0\n",
    "for date in buy_dates:\n",
    "#     invested += 100\n",
    "    # with 无风险利率（或通货膨胀） as 4%, 折成初始日期的现值\n",
    "    discount_rate = pow((1 + 0.00), (date - buy_dates[0]).days/365)\n",
    "    invested += 100 / discount_rate\n",
    "    while df[df['day']==date].empty:  # 如果是春节或者国庆的节假日，延后算这笔投资\n",
    "        date += 1\n",
    "    shares = 100 / float(df[df['day']==date]['sum_value'])\n",
    "    returned += shares * float(df[df['day']==end_date]['sum_value'])\n",
    "print(\"Invested money is: {0:.2f}\".format(invested))\n",
    "print(\"Returned money is: {0:.2f}\".format(returned))\n",
    "total_return = (returned - invested) / invested\n",
    "print(\"The total return is: {0:.2%}\".format(total_return))\n",
    "years_passed = (buy_dates[-1] - buy_dates[0]).days / 365\n",
    "annual_return = total_return / years_passed\n",
    "print(\"The annual return is: {0:.2%}\".format(annual_return))\n",
    "print(\"The risk premium compared to no-risk assets: {0:.2%}\".format(annual_return - 0.04))"
   ]
  },
  {
   "cell_type": "code",
   "execution_count": 292,
   "metadata": {},
   "outputs": [
    {
     "name": "stdout",
     "output_type": "stream",
     "text": [
      "0.7855839416058394\n"
     ]
    }
   ],
   "source": [
    "curr_value = df[df['day']==end_date]['sum_value']\n",
    "position = len(df[df['sum_value'] < curr_value.values[0]]) / len(df)\n",
    "print(position)"
   ]
  },
  {
   "cell_type": "code",
   "execution_count": 293,
   "metadata": {},
   "outputs": [],
   "source": [
    "df.reset_index(inplace=True)"
   ]
  },
  {
   "cell_type": "code",
   "execution_count": 294,
   "metadata": {
    "scrolled": true
   },
   "outputs": [
    {
     "data": {
      "text/html": [
       "<div>\n",
       "<style scoped>\n",
       "    .dataframe tbody tr th:only-of-type {\n",
       "        vertical-align: middle;\n",
       "    }\n",
       "\n",
       "    .dataframe tbody tr th {\n",
       "        vertical-align: top;\n",
       "    }\n",
       "\n",
       "    .dataframe thead th {\n",
       "        text-align: right;\n",
       "    }\n",
       "</style>\n",
       "<table border=\"1\" class=\"dataframe\">\n",
       "  <thead>\n",
       "    <tr style=\"text-align: right;\">\n",
       "      <th></th>\n",
       "      <th>index</th>\n",
       "      <th>Unnamed: 0</th>\n",
       "      <th>id</th>\n",
       "      <th>code</th>\n",
       "      <th>day</th>\n",
       "      <th>net_value</th>\n",
       "      <th>sum_value</th>\n",
       "      <th>factor</th>\n",
       "      <th>acc_factor</th>\n",
       "      <th>refactor_net_value</th>\n",
       "    </tr>\n",
       "  </thead>\n",
       "  <tbody>\n",
       "    <tr>\n",
       "      <th>0</th>\n",
       "      <td>1095</td>\n",
       "      <td>1095</td>\n",
       "      <td>5120066</td>\n",
       "      <td>961</td>\n",
       "      <td>2015-01-20</td>\n",
       "      <td>1.0000</td>\n",
       "      <td>1.0000</td>\n",
       "      <td>1.0</td>\n",
       "      <td>1.0</td>\n",
       "      <td>1.0000</td>\n",
       "    </tr>\n",
       "    <tr>\n",
       "      <th>1</th>\n",
       "      <td>1094</td>\n",
       "      <td>1094</td>\n",
       "      <td>3587494</td>\n",
       "      <td>961</td>\n",
       "      <td>2015-01-23</td>\n",
       "      <td>1.0332</td>\n",
       "      <td>1.0332</td>\n",
       "      <td>1.0</td>\n",
       "      <td>1.0</td>\n",
       "      <td>1.0332</td>\n",
       "    </tr>\n",
       "    <tr>\n",
       "      <th>2</th>\n",
       "      <td>1093</td>\n",
       "      <td>1093</td>\n",
       "      <td>3587495</td>\n",
       "      <td>961</td>\n",
       "      <td>2015-01-26</td>\n",
       "      <td>1.0416</td>\n",
       "      <td>1.0416</td>\n",
       "      <td>1.0</td>\n",
       "      <td>1.0</td>\n",
       "      <td>1.0416</td>\n",
       "    </tr>\n",
       "    <tr>\n",
       "      <th>3</th>\n",
       "      <td>1092</td>\n",
       "      <td>1092</td>\n",
       "      <td>3587496</td>\n",
       "      <td>961</td>\n",
       "      <td>2015-01-27</td>\n",
       "      <td>1.0357</td>\n",
       "      <td>1.0357</td>\n",
       "      <td>1.0</td>\n",
       "      <td>1.0</td>\n",
       "      <td>1.0357</td>\n",
       "    </tr>\n",
       "    <tr>\n",
       "      <th>4</th>\n",
       "      <td>1091</td>\n",
       "      <td>1091</td>\n",
       "      <td>3587497</td>\n",
       "      <td>961</td>\n",
       "      <td>2015-01-28</td>\n",
       "      <td>1.0297</td>\n",
       "      <td>1.0297</td>\n",
       "      <td>1.0</td>\n",
       "      <td>1.0</td>\n",
       "      <td>1.0297</td>\n",
       "    </tr>\n",
       "  </tbody>\n",
       "</table>\n",
       "</div>"
      ],
      "text/plain": [
       "   index  Unnamed: 0       id  code        day  net_value  sum_value  factor  \\\n",
       "0   1095        1095  5120066   961 2015-01-20     1.0000     1.0000     1.0   \n",
       "1   1094        1094  3587494   961 2015-01-23     1.0332     1.0332     1.0   \n",
       "2   1093        1093  3587495   961 2015-01-26     1.0416     1.0416     1.0   \n",
       "3   1092        1092  3587496   961 2015-01-27     1.0357     1.0357     1.0   \n",
       "4   1091        1091  3587497   961 2015-01-28     1.0297     1.0297     1.0   \n",
       "\n",
       "   acc_factor  refactor_net_value  \n",
       "0         1.0              1.0000  \n",
       "1         1.0              1.0332  \n",
       "2         1.0              1.0416  \n",
       "3         1.0              1.0357  \n",
       "4         1.0              1.0297  "
      ]
     },
     "execution_count": 294,
     "metadata": {},
     "output_type": "execute_result"
    }
   ],
   "source": [
    "df.head()"
   ]
  },
  {
   "cell_type": "code",
   "execution_count": 295,
   "metadata": {},
   "outputs": [
    {
     "name": "stdout",
     "output_type": "stream",
     "text": [
      "Invested money is: 8072.03\n",
      "Returned money is: 10301.85\n",
      "The total return is: 27.62%\n",
      "The annual return is: 7.87%\n",
      "The risk premium compared to no-risk assets: 3.87%\n"
     ]
    }
   ],
   "source": [
    "'''一个简单的策略，在历史价格区间的下50%就买入，上50%不买（后续可以设计高于70%就卖出，可以一次性也可以陆续卖出）'''\n",
    "from math import pow\n",
    "buy_dates = pd.date_range(start=start_date, end=end_date, freq='5B')\n",
    "invested = 0\n",
    "returned = 0\n",
    "for date in buy_dates:\n",
    "#     invested += 100\n",
    "    # with 无风险利率（或通货膨胀） as 4%, 折成初始日期的现值\n",
    "    while df[df['day']==date].empty:  # 如果是春节或者国庆的节假日，延后算这笔投资\n",
    "        date += 1\n",
    "    curr_idx = df[df['day']==date].index[0]\n",
    "    mid_value = df.iloc[0:curr_idx, :]['sum_value'].median()\n",
    "    if float(df[df['day']==date]['sum_value']) < mid_value:\n",
    "        discount_rate = pow((1 + 0.04), (date - buy_dates[0]).days/365)\n",
    "        invested += 100 / discount_rate\n",
    "        shares = 100 / float(df[df['day']==date]['sum_value'])\n",
    "        returned += shares * float(df[df['day']==end_date]['sum_value'])\n",
    "print(\"Invested money is: {0:.2f}\".format(invested))\n",
    "print(\"Returned money is: {0:.2f}\".format(returned))\n",
    "total_return = (returned - invested) / invested\n",
    "print(\"The total return is: {0:.2%}\".format(total_return))\n",
    "years_passed = (buy_dates[-1] - buy_dates[0]).days / 365\n",
    "annual_return = total_return / years_passed\n",
    "print(\"The annual return is: {0:.2%}\".format(annual_return))\n",
    "print(\"The risk premium compared to no-risk assets: {0:.2%}\".format(annual_return - 0.04))"
   ]
  },
  {
   "cell_type": "code",
   "execution_count": 296,
   "metadata": {},
   "outputs": [],
   "source": [
    "import numpy as np"
   ]
  },
  {
   "cell_type": "code",
   "execution_count": 297,
   "metadata": {},
   "outputs": [
    {
     "data": {
      "text/plain": [
       "-0.16803256325411353"
      ]
     },
     "execution_count": 297,
     "metadata": {},
     "output_type": "execute_result"
    }
   ],
   "source": [
    "np.irr([-10, -10, -10, 21])"
   ]
  },
  {
   "cell_type": "markdown",
   "metadata": {},
   "source": [
    "# 使用xirr"
   ]
  },
  {
   "cell_type": "code",
   "execution_count": 298,
   "metadata": {},
   "outputs": [],
   "source": [
    "import datetime\n",
    "from scipy import optimize\n",
    " \n",
    "# # 函数\n",
    "# def xnpv(rate, cashflows):\n",
    "#     return sum([cf/(1+rate)**((t-cashflows[0][0]).days/365.0) for (t,cf) in cashflows])\n",
    " \n",
    "# def xirr(cashflows, guess=0.1):\n",
    "#     try:\n",
    "#         return optimize.newton(lambda r: xnpv(r,cashflows),guess)\n",
    "#     except:\n",
    "#         print('Calc Wrong')\n",
    "\n",
    "from datetime import date\n",
    " \n",
    "# 函数\n",
    "def xirr(cashflows):\n",
    "    years = [(ta[0] - cashflows[0][0]).days / 365. for ta in cashflows]\n",
    "    residual = 1.0\n",
    "    step = 0.05\n",
    "    guess = 0.05\n",
    "    epsilon = 0.0001\n",
    "    limit = 10000\n",
    "    while abs(residual) > epsilon and limit > 0:\n",
    "        limit -= 1\n",
    "        residual = 0.0\n",
    "        for i, trans in enumerate(cashflows):\n",
    "            residual += trans[1] / pow(guess, years[i])\n",
    "        if abs(residual) > epsilon:\n",
    "            if residual > 0:\n",
    "                guess += step\n",
    "            else:\n",
    "                guess -= step\n",
    "                step /= 2.0\n",
    "    return guess - 1"
   ]
  },
  {
   "cell_type": "code",
   "execution_count": 299,
   "metadata": {},
   "outputs": [
    {
     "data": {
      "text/plain": [
       "0.42369774132967053"
      ]
     },
     "execution_count": 299,
     "metadata": {},
     "output_type": "execute_result"
    }
   ],
   "source": [
    "# 测试\n",
    "data = [(datetime.date(2006, 1, 24), -39967), \n",
    "        (datetime.date(2008, 2, 6), -19866), \n",
    "        (datetime.date(2010, 10, 18), 245706), \n",
    "        (datetime.date(2013, 9, 14), 52142)]\n",
    "xirr(data)"
   ]
  },
  {
   "cell_type": "code",
   "execution_count": 300,
   "metadata": {},
   "outputs": [
    {
     "name": "stdout",
     "output_type": "stream",
     "text": [
      "Invested money is: 18400.00\n",
      "Returned money is: 20599.43\n",
      "The annual return is: 6.48%\n"
     ]
    }
   ],
   "source": [
    "'''每期必投的傻瓜策略'''\n",
    "# 单位净值有可能高于累计净值，因为折算的关系，就是share的数量变少了，价格变贵，为了追踪指数什么的\n",
    "buy_dates = pd.date_range(start=start_date, end=end_date, freq='5B')\n",
    "invested = 0\n",
    "shares = 0\n",
    "investment_records = []\n",
    "for date in buy_dates:\n",
    "    while df[df['day']==date].empty:  # 如果是春节或者国庆的节假日，延后算这笔投资\n",
    "        date += 1\n",
    "    investment_records.append((date, -100))\n",
    "    shares += 100 / float(df[df['day']==date]['sum_value'])\n",
    "investment_records.append((pd.to_datetime(end_date), shares * float(df[df['day']==end_date]['sum_value'])))\n",
    "\n",
    "print(\"Invested money is: {0:.2f}\".format(-sum([money for (date, money) in investment_records[:-1]])))\n",
    "print(\"Returned money is: {0:.2f}\".format(investment_records[-1][1]))\n",
    "print(\"The annual return is: {0:.2%}\".format(xirr(investment_records)))"
   ]
  },
  {
   "cell_type": "code",
   "execution_count": 301,
   "metadata": {},
   "outputs": [
    {
     "data": {
      "text/plain": [
       "0.06475414037704463"
      ]
     },
     "execution_count": 301,
     "metadata": {},
     "output_type": "execute_result"
    }
   ],
   "source": [
    "xirr(investment_records)"
   ]
  },
  {
   "cell_type": "code",
   "execution_count": 302,
   "metadata": {},
   "outputs": [
    {
     "name": "stdout",
     "output_type": "stream",
     "text": [
      "Invested money is: 8500.00\n",
      "Returned money is: 10301.85\n",
      "The annual return is: 8.98%\n"
     ]
    }
   ],
   "source": [
    "'''一个简单的策略，在历史价格区间的下50%就买入，上50%不买（后续可以设计高于70%就卖出，可以一次性也可以陆续卖出）'''\n",
    "buy_dates = pd.date_range(start=start_date, end=end_date, freq='5B')\n",
    "invested = 0\n",
    "shares = 0\n",
    "investment_records = []\n",
    "for date in buy_dates:\n",
    "    while df[df['day']==date].empty:  # 如果是春节或者国庆的节假日，延后算这笔投资\n",
    "        date += 1\n",
    "    curr_idx = df[df['day']==date].index[0]\n",
    "    mid_value = df.iloc[0:curr_idx, :]['sum_value'].median()\n",
    "    if float(df[df['day']==date]['sum_value']) < mid_value:\n",
    "        investment_records.append((date, -100))\n",
    "        shares += 100 / float(df[df['day']==date]['sum_value'])\n",
    "investment_records.append((pd.to_datetime(end_date), shares * float(df[df['day']==end_date]['sum_value'])))\n",
    "\n",
    "print(\"Invested money is: {0:.2f}\".format(-sum([money for (date, money) in investment_records[:-1]])))\n",
    "print(\"Returned money is: {0:.2f}\".format(investment_records[-1][1]))\n",
    "print(\"The annual return is: {0:.2%}\".format(xirr(investment_records)))"
   ]
  },
  {
   "cell_type": "code",
   "execution_count": 303,
   "metadata": {},
   "outputs": [
    {
     "name": "stdout",
     "output_type": "stream",
     "text": [
      "Invested money is: 8500.00\n",
      "Returned money is: 10301.85\n",
      "The annual return is: 8.98%\n"
     ]
    }
   ],
   "source": [
    "'''一个简单的策略，在历史价格区间的下50%就买入，高于70%就卖出，陆续卖出吧，每次卖出价值100元的份额'''\n",
    "buy_dates = pd.date_range(start=start_date, end=end_date, freq='5B')\n",
    "invested = 0\n",
    "shares = 0\n",
    "investment_records = []\n",
    "for date in buy_dates:\n",
    "    while df[df['day']==date].empty:  # 如果是春节或者国庆的节假日，延后算这笔投资\n",
    "        date += 1\n",
    "    curr_idx = df[df['day']==date].index[0]\n",
    "    mid_value = df.iloc[0:curr_idx, :]['sum_value'].quantile(0.5)\n",
    "    if float(df[df['day']==date]['sum_value']) < mid_value:\n",
    "        investment_records.append((date, -100))\n",
    "        shares += 100 / float(df[df['day']==date]['sum_value'])\n",
    "    elif float(df[df['day']==date]['sum_value']) > df.iloc[0:curr_idx, :]['sum_value'].quantile(0.7):\n",
    "        if investment_records[-1][1] > 100:\n",
    "            investment_records.append((date, 100))\n",
    "            shares -= 100 / float(df[df['day']==date]['sum_value'])\n",
    "        \n",
    "investment_records.append((pd.to_datetime(end_date), shares * float(df[df['day']==end_date]['sum_value'])))\n",
    "\n",
    "print(\"Invested money is: {0:.2f}\".format(-sum([money for (date, money) in investment_records if money < 0])))\n",
    "print(\"Returned money is: {0:.2f}\".format(sum([money for (date, money) in investment_records if money > 0])))\n",
    "print(\"The annual return is: {0:.2%}\".format(xirr(investment_records)))"
   ]
  },
  {
   "cell_type": "code",
   "execution_count": null,
   "metadata": {},
   "outputs": [],
   "source": []
  }
 ],
 "metadata": {
  "kernelspec": {
   "display_name": "Python 3",
   "language": "python",
   "name": "python3"
  },
  "language_info": {
   "codemirror_mode": {
    "name": "ipython",
    "version": 3
   },
   "file_extension": ".py",
   "mimetype": "text/x-python",
   "name": "python",
   "nbconvert_exporter": "python",
   "pygments_lexer": "ipython3",
   "version": "3.7.0"
  }
 },
 "nbformat": 4,
 "nbformat_minor": 2
}
